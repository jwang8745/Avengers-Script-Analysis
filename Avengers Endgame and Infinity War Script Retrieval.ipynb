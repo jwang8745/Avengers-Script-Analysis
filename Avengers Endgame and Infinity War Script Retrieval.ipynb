{
 "cells": [
  {
   "cell_type": "code",
   "execution_count": 106,
   "metadata": {},
   "outputs": [],
   "source": [
    "from bs4 import BeautifulSoup as bsoup\n",
    "import requests\n",
    "import re\n",
    "\n",
    "inf_url = \"https://transcripts.fandom.com/wiki/Avengers:_Infinity_War\"\n",
    "end_url = \"https://transcripts.fandom.com/wiki/Avengers:_Endgame\""
   ]
  },
  {
   "cell_type": "markdown",
   "metadata": {},
   "source": [
    "# Gathering Data from Website"
   ]
  },
  {
   "cell_type": "code",
   "execution_count": 107,
   "metadata": {},
   "outputs": [],
   "source": [
    "\"\"\"Given URL from transcripts fandom site, return the script as a string\"\"\"\n",
    "def get_script(url):\n",
    "    out_site = requests.get(url)\n",
    "    out_soup = bsoup(out_site.content, 'html.parser')\n",
    "    out_script = out_soup.find(id = 'mw-content-text').text\n",
    "    return out_script"
   ]
  },
  {
   "cell_type": "code",
   "execution_count": 108,
   "metadata": {},
   "outputs": [],
   "source": [
    "inf_script = get_script(inf_url)\n",
    "end_script = get_script(end_url)"
   ]
  },
  {
   "cell_type": "markdown",
   "metadata": {},
   "source": [
    "# Cleaning the script to only get dialogue"
   ]
  },
  {
   "cell_type": "code",
   "execution_count": 109,
   "metadata": {},
   "outputs": [],
   "source": [
    "\"\"\"Given a string of the script, remove actions and other misc text that isn't dialogue\n",
    "returns a string of only the dialogue\"\"\"\n",
    "def clean_script_text(script):\n",
    "    #Removes all the [action] in the script\n",
    "    actless_text = re.sub('(\\[.+\\])', '', script)\n",
    "    return actless_text"
   ]
  },
  {
   "cell_type": "code",
   "execution_count": 110,
   "metadata": {},
   "outputs": [],
   "source": [
    "dialogue_pattern = \"(\\s*[a-zA-Z\\\\s]+)+[:](\\s*[a-zA-Z\\s]+[,.?!]+)+\"\n",
    "actions_pattern = '(\\[.+\\])'"
   ]
  },
  {
   "cell_type": "code",
   "execution_count": 112,
   "metadata": {},
   "outputs": [],
   "source": [
    "inf_dialogue_text = clean_script_text(inf_script)\n",
    "end_dialogue_text = clean_script_text(end_script)\n"
   ]
  },
  {
   "cell_type": "code",
   "execution_count": 175,
   "metadata": {},
   "outputs": [],
   "source": [
    "\"\"\"Given a multi language dialogue line as a string, find and return only English text as string\"\"\"\n",
    "def get_english_text(line):\n",
    "    eng_pattern = \"(\\(English[:])(.+)(\\))\"\n",
    "    out = re.findall(eng_pattern, line)\n",
    "    return (out[0][1])"
   ]
  },
  {
   "cell_type": "code",
   "execution_count": 193,
   "metadata": {},
   "outputs": [],
   "source": [
    "\"\"\"Given a list of lines with multiple colons, return the correctly formatted line as as tring\"\"\"\n",
    "def get_mult_col_text(line):\n",
    "    patched_up = \":\".join(line[1:])\n",
    "    \n",
    "    #check if line is in different language\n",
    "    if \"(English:\" in patched_up:\n",
    "        translate = get_english_text(patched_up)\n",
    "        return translate.strip(\"(\").strip(\")\")\n",
    "    else:\n",
    "        return patched_up.strip(\"(\").strip(\")\")\n",
    "    "
   ]
  },
  {
   "cell_type": "code",
   "execution_count": 224,
   "metadata": {},
   "outputs": [],
   "source": [
    "def check_if_dialogue(line):\n",
    "    if line[1] == \"\":\n",
    "        return False\n",
    "    else:\n",
    "        return True"
   ]
  },
  {
   "cell_type": "markdown",
   "metadata": {},
   "source": [
    "# Writing out the script into txt files"
   ]
  },
  {
   "cell_type": "code",
   "execution_count": 261,
   "metadata": {},
   "outputs": [],
   "source": [
    "def write_out_to_csv(dialogue_text, file):\n",
    "    list_lines = dialogue_text.split(\"\\n\")\n",
    "    file.write(\"character|line\\n\")\n",
    "    for each in list_lines:\n",
    "        line = each.strip('\\t').split(\":\")\n",
    "        #This line has 2 parts, character name and dialogue\n",
    "\n",
    "        if len(line) == 2:\n",
    "            if check_if_dialogue(line) == True:\n",
    "                file.write(\"{}|{}\\n\".format(line[0], line[1]))\n",
    "\n",
    "        #does not have 2 parts, instead there exists a semi colon in the sentence\n",
    "        elif len(line) > 2:\n",
    "            #pass\n",
    "            file.write(\"{}|{}\\n\".format(line[0], get_mult_col_text(line[1:])))\n",
    "    \n"
   ]
  },
  {
   "cell_type": "code",
   "execution_count": 262,
   "metadata": {},
   "outputs": [],
   "source": [
    "inf_file = open(\"infinity_war_script.txt\", \"w\")\n",
    "write_out_to_csv(inf_dialogue_text, inf_file)\n",
    "inf_file.close()\n",
    "\n",
    "end_file = open(\"endgame_script.txt\", \"w\")\n",
    "write_out_to_csv(end_dialogue_text, end_file)\n",
    "end_file.close()"
   ]
  }
 ],
 "metadata": {
  "kernelspec": {
   "display_name": "Python 3",
   "language": "python",
   "name": "python3"
  },
  "language_info": {
   "codemirror_mode": {
    "name": "ipython",
    "version": 3
   },
   "file_extension": ".py",
   "mimetype": "text/x-python",
   "name": "python",
   "nbconvert_exporter": "python",
   "pygments_lexer": "ipython3",
   "version": "3.7.2"
  }
 },
 "nbformat": 4,
 "nbformat_minor": 2
}
