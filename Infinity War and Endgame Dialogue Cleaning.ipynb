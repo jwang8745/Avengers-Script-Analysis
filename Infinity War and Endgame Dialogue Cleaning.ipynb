{
 "cells": [
  {
   "cell_type": "code",
   "execution_count": 1,
   "metadata": {},
   "outputs": [],
   "source": [
    "import pandas as pd\n",
    "import re\n",
    "import string "
   ]
  },
  {
   "cell_type": "markdown",
   "metadata": {},
   "source": [
    "## Load up my data from both scripts"
   ]
  },
  {
   "cell_type": "code",
   "execution_count": 2,
   "metadata": {},
   "outputs": [],
   "source": [
    "end_game_data = pd.read_csv(\"endgame_script.txt\", sep = \"|\", )\n",
    "inf_war_data = pd.read_csv(\"infinity_war_script.txt\", sep = \"|\", )"
   ]
  },
  {
   "cell_type": "markdown",
   "metadata": {},
   "source": [
    "## Need to clean up data, merge character lines together \n",
    "i.e \"Bruce\" is same as  \"Bruce Banner\"  \n",
    "\n",
    "#### Cleaning END GAME Data"
   ]
  },
  {
   "cell_type": "code",
   "execution_count": 3,
   "metadata": {},
   "outputs": [
    {
     "data": {
      "text/plain": [
       "24                  TONY STARK\n",
       "26                  TONY STARK\n",
       "27                  TONY STARK\n",
       "28                  TONY STARK\n",
       "29                  TONY STARK\n",
       "                 ...          \n",
       "1139                TONY STARK\n",
       "1149                TONY STARK\n",
       "1153                TONY STARK\n",
       "1157    TONY STARK (voiceover)\n",
       "1158     TONY STARK (hologram)\n",
       "Name: character, Length: 183, dtype: object"
      ]
     },
     "execution_count": 3,
     "metadata": {},
     "output_type": "execute_result"
    }
   ],
   "source": [
    "end_game_data.loc[end_game_data[\"character\"].str.contains('TONY', regex = False),\"character\"]"
   ]
  },
  {
   "cell_type": "markdown",
   "metadata": {},
   "source": [
    "As shown above, there are different character names of \"Tony Stark\" even though it is the same character speaking"
   ]
  },
  {
   "cell_type": "code",
   "execution_count": 278,
   "metadata": {},
   "outputs": [],
   "source": [
    "\"\"\" change the name of characters\"\"\"\n",
    "def change_names(in_df, init_names, new_names):\n",
    "    for i in range(len(init_names)):\n",
    "        initial_name = init_names[i]\n",
    "        new_name = new_names[i]\n",
    "        in_df.loc[in_df[\"character\"].str.upper().str.contains(initial_name, regex = False),\"character\"] = new_name\n",
    "    return in_df"
   ]
  },
  {
   "cell_type": "code",
   "execution_count": 5,
   "metadata": {},
   "outputs": [],
   "source": [
    "end_game_char_names = [\"TONY\", \"STEVE\", \"NATASHA\", \"NEBULA\", \"SCOTT LANG\", \n",
    "                            \"BRUCE BANNER\", \"CLINT\", \"ALEXANDER PEIRCE\",\n",
    "                           \"F.R.I.D.A.Y\", \"RHODEY\", \"THANOS\", \"THOR\", \"GAMORA\"]\n",
    "\n",
    "MCU_NAMES = [\"TONY STARK\", \"STEVE ROGERS\", \"NATASHA ROMANOFF\", \"NEBULA\", \"SCOTT LANG\",\n",
    "             \"BRUCE BANNER\", \"CLINT BARTON\", \"ALEXANDER PEIRCE\", \"F.R.I.D.A.Y.\", \"RHODEY\", \n",
    "            \"THANOS\", \"THOR\", \"GAMORA\"]\n",
    "\n",
    "\n",
    "\n",
    "\n",
    "for i in range(len(end_game_char_names)):\n",
    "    initial_name = end_game_char_names[i]\n",
    "    new_name = MCU_NAMES[i]\n",
    "    end_game_data.loc[end_game_data[\"character\"].str.upper().str.contains(initial_name, regex = False),\"character\"] = new_name\n",
    "\n",
    "\n",
    "end_game_data = change_names(end_game_data, end_game_char_names, MCU_NAMES)\n",
    "\n",
    "\n"
   ]
  },
  {
   "cell_type": "code",
   "execution_count": 6,
   "metadata": {},
   "outputs": [],
   "source": [
    "end_game_data.character.replace(regex=True,\n",
    "                                inplace=True,\n",
    "                                to_replace=r'[(\\d\\d\\d\\d)]',value=r'')\n"
   ]
  },
  {
   "cell_type": "code",
   "execution_count": 7,
   "metadata": {},
   "outputs": [],
   "source": [
    "#SPECIAL CASES FOR BRUCE BANNER\n",
    "end_game_data.loc[end_game_data[\"character\"].str.upper().str.contains('MEM', regex = False), 'character'] = \"BRUCE BANNER\"\n",
    "end_game_data.loc[end_game_data[\"character\"].str.upper().str.contains('^BRUCE$', regex = True), 'character'] = \"BRUCE BANNER\"\n"
   ]
  },
  {
   "cell_type": "markdown",
   "metadata": {},
   "source": [
    "#### Cleaning Infinity War Data"
   ]
  },
  {
   "cell_type": "code",
   "execution_count": 8,
   "metadata": {},
   "outputs": [],
   "source": [
    "inf_war_data['character'] = inf_war_data['character'].str.upper() \n",
    "\n",
    "inf_war_char = [\"F.R.I.D.A.Y\", \"STRANGE\"]\n",
    "MCU_NAMES_INF_WAR = [\"F.R.I.D.A.Y.\", \"DOCTOR STRANGE\"]\n",
    "\n",
    "inf_war_data = change_names(inf_war_data, inf_war_char, MCU_NAMES_INF_WAR)\n"
   ]
  },
  {
   "cell_type": "markdown",
   "metadata": {},
   "source": [
    "## Data Table of characters and number of lines they have"
   ]
  },
  {
   "cell_type": "code",
   "execution_count": 9,
   "metadata": {},
   "outputs": [],
   "source": [
    "end_line_count = end_game_data.groupby(\"character\")[\"line\"].count()\n",
    "end_line_count = end_line_count.to_frame()\n",
    "end_line_count.reset_index()\n",
    "end_line_count.to_csv(\"end_game_line_count.txt\", index = True, header = True)\n"
   ]
  },
  {
   "cell_type": "code",
   "execution_count": 10,
   "metadata": {},
   "outputs": [],
   "source": [
    "inf_line_count = inf_war_data.groupby(\"character\")[\"line\"].count()\n",
    "inf_line_count = inf_line_count.to_frame()\n",
    "inf_line_count.reset_index()\n",
    "inf_line_count.to_csv(\"infinity_war_line_count.txt\", index = True, header = True)"
   ]
  },
  {
   "cell_type": "markdown",
   "metadata": {},
   "source": [
    "## Outputting cleaned_script"
   ]
  },
  {
   "cell_type": "code",
   "execution_count": 11,
   "metadata": {},
   "outputs": [],
   "source": [
    "end_game_data.to_csv(\"end_game_script_clean.txt\", index = True, header = True)\n",
    "inf_war_data.to_csv(\"infinity_war_script_clean.txt\", index = True, header = True)"
   ]
  },
  {
   "cell_type": "markdown",
   "metadata": {},
   "source": [
    "## Data table of characters and the words they said"
   ]
  },
  {
   "cell_type": "code",
   "execution_count": 214,
   "metadata": {},
   "outputs": [],
   "source": [
    "\"\"\" Given data frame, return another dataframe with just character names and the words they use and word counts\"\"\"\n",
    "def char_names_word_count(df):\n",
    "    df_words = df[[\"character\", \"line\"]]\n",
    "\n",
    "    df_clean = df[\"line\"].str.replace(r\"[,.;@#?!&$]+\\ *\", \" \", regex = True)\n",
    "    lower_words =  df_clean.str.lower()\n",
    "    lower_words = lower_words.str.strip()\n",
    "    df_words[\"words\"] = lower_words.str.split()\n",
    "    df_words = df_words.drop(columns = [\"line\"])\n",
    "    \n",
    "    new_df_words = pd.DataFrame(df_words.words.tolist(), index=df_words.character).stack()\n",
    "    new_df_words = new_df_words.reset_index([0, 'character'])\n",
    "    new_df_words.columns = ['character', 'word_spoken']\n",
    "    \n",
    "    new_char_group = pd.DataFrame(pd.np.empty((0, 3)))    \n",
    "\n",
    "    new_char_group = new_df_words.groupby(['character','word_spoken']).size()\n",
    "    new_char_group = new_char_group.reset_index()\n",
    "    new_char_group.columns = ['character', 'word', 'word_count']\n",
    "\n",
    "    return(new_char_group)"
   ]
  },
  {
   "cell_type": "code",
   "execution_count": 270,
   "metadata": {},
   "outputs": [],
   "source": [
    "from nltk.corpus import stopwords\n",
    "stop = stopwords.words('english')\n",
    "\n",
    "\"\"\" Given data frame, return another dataframe with just character names and the words they use and word counts\n",
    "THIS VERSION OF THE FUNCTION REMOVES STOP WORDS FROM DIALOGUE\"\"\"\n",
    "def char_names_word_count_no_stop(df):\n",
    "    df_words = df[[\"character\", \"line\"]]\n",
    "\n",
    "    df_clean = df[\"line\"].str.replace(r\"[,.;@#?!&$]+\\ *\", \" \", regex = True)\n",
    "    lower_words =  df_clean.str.lower()\n",
    "    lower_words = lower_words.str.strip()\n",
    "    df_words[\"words\"] = lower_words.str.split()\n",
    "    df_words[\"words\"] = df_words[\"words\"].apply(lambda x: [item for item in x if item not in stop])\n",
    "\n",
    "    \n",
    "    \n",
    "    df_words = df_words.drop(columns = [\"line\"])\n",
    "    \n",
    "    new_df_words = pd.DataFrame(df_words.words.tolist(), index=df_words.character).stack()\n",
    "    new_df_words = new_df_words.reset_index([0, 'character'])\n",
    "    new_df_words.columns = ['character', 'word_spoken']\n",
    "    \n",
    "    new_char_group = pd.DataFrame(pd.np.empty((0, 3)))    \n",
    "\n",
    "    new_char_group = new_df_words.groupby(['character','word_spoken']).size()\n",
    "    new_char_group = new_char_group.reset_index()\n",
    "    new_char_group.columns = ['character', 'word', 'word_count']\n",
    "\n",
    "    return(new_char_group)"
   ]
  },
  {
   "cell_type": "markdown",
   "metadata": {},
   "source": [
    "## Get the word count table into a csv file\n",
    "## AND store data table locally"
   ]
  },
  {
   "cell_type": "code",
   "execution_count": 281,
   "metadata": {},
   "outputs": [],
   "source": [
    "inf_word_count = char_names_word_count_no_stop(inf_war_data)\n",
    "inf_word_count.to_csv(\"infinity_war_word_count.csv\", header = True)\n",
    "\n",
    "\n",
    "end_word_count = char_names_word_count_no_stop(end_game_data)\n",
    "end_word_count.to_csv(\"end_game_word_count.csv\", header = True)"
   ]
  },
  {
   "cell_type": "markdown",
   "metadata": {},
   "source": [
    "# Top 5 most frequent words for Tony Stark\n",
    "### Avengers: Infinity War"
   ]
  },
  {
   "cell_type": "code",
   "execution_count": 297,
   "metadata": {},
   "outputs": [
    {
     "data": {
      "text/html": [
       "<div>\n",
       "<style scoped>\n",
       "    .dataframe tbody tr th:only-of-type {\n",
       "        vertical-align: middle;\n",
       "    }\n",
       "\n",
       "    .dataframe tbody tr th {\n",
       "        vertical-align: top;\n",
       "    }\n",
       "\n",
       "    .dataframe thead th {\n",
       "        text-align: right;\n",
       "    }\n",
       "</style>\n",
       "<table border=\"1\" class=\"dataframe\">\n",
       "  <thead>\n",
       "    <tr style=\"text-align: right;\">\n",
       "      <th></th>\n",
       "      <th>character</th>\n",
       "      <th>word</th>\n",
       "      <th>word_count</th>\n",
       "    </tr>\n",
       "  </thead>\n",
       "  <tbody>\n",
       "    <tr>\n",
       "      <td>2647</td>\n",
       "      <td>TONY STARK</td>\n",
       "      <td>i'm</td>\n",
       "      <td>17</td>\n",
       "    </tr>\n",
       "    <tr>\n",
       "      <td>2864</td>\n",
       "      <td>TONY STARK</td>\n",
       "      <td>yeah</td>\n",
       "      <td>11</td>\n",
       "    </tr>\n",
       "    <tr>\n",
       "      <td>2657</td>\n",
       "      <td>TONY STARK</td>\n",
       "      <td>know</td>\n",
       "      <td>9</td>\n",
       "    </tr>\n",
       "    <tr>\n",
       "      <td>2609</td>\n",
       "      <td>TONY STARK</td>\n",
       "      <td>get</td>\n",
       "      <td>9</td>\n",
       "    </tr>\n",
       "    <tr>\n",
       "      <td>2633</td>\n",
       "      <td>TONY STARK</td>\n",
       "      <td>he's</td>\n",
       "      <td>9</td>\n",
       "    </tr>\n",
       "  </tbody>\n",
       "</table>\n",
       "</div>"
      ],
      "text/plain": [
       "       character  word  word_count\n",
       "2647  TONY STARK   i'm          17\n",
       "2864  TONY STARK  yeah          11\n",
       "2657  TONY STARK  know           9\n",
       "2609  TONY STARK   get           9\n",
       "2633  TONY STARK  he's           9"
      ]
     },
     "execution_count": 297,
     "metadata": {},
     "output_type": "execute_result"
    }
   ],
   "source": [
    "inf_word_count.loc[inf_word_count['character'] == \"TONY STARK\"].sort_values(by = ['word_count']\n",
    "                                                                        , ascending = False).head(5)"
   ]
  },
  {
   "cell_type": "markdown",
   "metadata": {},
   "source": [
    "### Avengers: End Game"
   ]
  },
  {
   "cell_type": "code",
   "execution_count": 292,
   "metadata": {},
   "outputs": [
    {
     "data": {
      "text/html": [
       "<div>\n",
       "<style scoped>\n",
       "    .dataframe tbody tr th:only-of-type {\n",
       "        vertical-align: middle;\n",
       "    }\n",
       "\n",
       "    .dataframe tbody tr th {\n",
       "        vertical-align: top;\n",
       "    }\n",
       "\n",
       "    .dataframe thead th {\n",
       "        text-align: right;\n",
       "    }\n",
       "</style>\n",
       "<table border=\"1\" class=\"dataframe\">\n",
       "  <thead>\n",
       "    <tr style=\"text-align: right;\">\n",
       "      <th></th>\n",
       "      <th>character</th>\n",
       "      <th>word</th>\n",
       "      <th>word_count</th>\n",
       "    </tr>\n",
       "  </thead>\n",
       "  <tbody>\n",
       "    <tr>\n",
       "      <td>3409</td>\n",
       "      <td>TONY STARK</td>\n",
       "      <td>right</td>\n",
       "      <td>19</td>\n",
       "    </tr>\n",
       "    <tr>\n",
       "      <td>3175</td>\n",
       "      <td>TONY STARK</td>\n",
       "      <td>got</td>\n",
       "      <td>18</td>\n",
       "    </tr>\n",
       "    <tr>\n",
       "      <td>3251</td>\n",
       "      <td>TONY STARK</td>\n",
       "      <td>know</td>\n",
       "      <td>17</td>\n",
       "    </tr>\n",
       "    <tr>\n",
       "      <td>3583</td>\n",
       "      <td>TONY STARK</td>\n",
       "      <td>yeah</td>\n",
       "      <td>16</td>\n",
       "    </tr>\n",
       "    <tr>\n",
       "      <td>3502</td>\n",
       "      <td>TONY STARK</td>\n",
       "      <td>that's</td>\n",
       "      <td>15</td>\n",
       "    </tr>\n",
       "  </tbody>\n",
       "</table>\n",
       "</div>"
      ],
      "text/plain": [
       "       character    word  word_count\n",
       "3409  TONY STARK   right          19\n",
       "3175  TONY STARK     got          18\n",
       "3251  TONY STARK    know          17\n",
       "3583  TONY STARK    yeah          16\n",
       "3502  TONY STARK  that's          15"
      ]
     },
     "execution_count": 292,
     "metadata": {},
     "output_type": "execute_result"
    }
   ],
   "source": [
    "end_word_count.loc[end_word_count['character'] == \"TONY STARK\"].sort_values(by = ['word_count']\n",
    "                                                                        , ascending = False).head(5)"
   ]
  },
  {
   "cell_type": "markdown",
   "metadata": {},
   "source": [
    "# Top 5 most frequent words for Steve Rogers\n",
    "### Avengers: Infinity War"
   ]
  },
  {
   "cell_type": "code",
   "execution_count": 293,
   "metadata": {},
   "outputs": [
    {
     "data": {
      "text/html": [
       "<div>\n",
       "<style scoped>\n",
       "    .dataframe tbody tr th:only-of-type {\n",
       "        vertical-align: middle;\n",
       "    }\n",
       "\n",
       "    .dataframe tbody tr th {\n",
       "        vertical-align: top;\n",
       "    }\n",
       "\n",
       "    .dataframe thead th {\n",
       "        text-align: right;\n",
       "    }\n",
       "</style>\n",
       "<table border=\"1\" class=\"dataframe\">\n",
       "  <thead>\n",
       "    <tr style=\"text-align: right;\">\n",
       "      <th></th>\n",
       "      <th>character</th>\n",
       "      <th>word</th>\n",
       "      <th>word_count</th>\n",
       "    </tr>\n",
       "  </thead>\n",
       "  <tbody>\n",
       "    <tr>\n",
       "      <td>1884</td>\n",
       "      <td>STEVE ROGERS</td>\n",
       "      <td>go</td>\n",
       "      <td>4</td>\n",
       "    </tr>\n",
       "    <tr>\n",
       "      <td>1883</td>\n",
       "      <td>STEVE ROGERS</td>\n",
       "      <td>get</td>\n",
       "      <td>3</td>\n",
       "    </tr>\n",
       "    <tr>\n",
       "      <td>1893</td>\n",
       "      <td>STEVE ROGERS</td>\n",
       "      <td>i'm</td>\n",
       "      <td>3</td>\n",
       "    </tr>\n",
       "    <tr>\n",
       "      <td>1930</td>\n",
       "      <td>STEVE ROGERS</td>\n",
       "      <td>vision</td>\n",
       "      <td>2</td>\n",
       "    </tr>\n",
       "    <tr>\n",
       "      <td>1880</td>\n",
       "      <td>STEVE ROGERS</td>\n",
       "      <td>fight</td>\n",
       "      <td>2</td>\n",
       "    </tr>\n",
       "  </tbody>\n",
       "</table>\n",
       "</div>"
      ],
      "text/plain": [
       "         character    word  word_count\n",
       "1884  STEVE ROGERS      go           4\n",
       "1883  STEVE ROGERS     get           3\n",
       "1893  STEVE ROGERS     i'm           3\n",
       "1930  STEVE ROGERS  vision           2\n",
       "1880  STEVE ROGERS   fight           2"
      ]
     },
     "execution_count": 293,
     "metadata": {},
     "output_type": "execute_result"
    }
   ],
   "source": [
    "inf_word_count.loc[inf_word_count['character'] == \"STEVE ROGERS\"].sort_values(by = ['word_count']\n",
    "                                                                        , ascending = False).head(5)"
   ]
  },
  {
   "cell_type": "markdown",
   "metadata": {},
   "source": [
    "### Avengers: End Game"
   ]
  },
  {
   "cell_type": "code",
   "execution_count": 294,
   "metadata": {},
   "outputs": [
    {
     "data": {
      "text/html": [
       "<div>\n",
       "<style scoped>\n",
       "    .dataframe tbody tr th:only-of-type {\n",
       "        vertical-align: middle;\n",
       "    }\n",
       "\n",
       "    .dataframe tbody tr th {\n",
       "        vertical-align: top;\n",
       "    }\n",
       "\n",
       "    .dataframe thead th {\n",
       "        text-align: right;\n",
       "    }\n",
       "</style>\n",
       "<table border=\"1\" class=\"dataframe\">\n",
       "  <thead>\n",
       "    <tr style=\"text-align: right;\">\n",
       "      <th></th>\n",
       "      <th>character</th>\n",
       "      <th>word</th>\n",
       "      <th>word_count</th>\n",
       "    </tr>\n",
       "  </thead>\n",
       "  <tbody>\n",
       "    <tr>\n",
       "      <td>2276</td>\n",
       "      <td>STEVE ROGERS</td>\n",
       "      <td>know</td>\n",
       "      <td>15</td>\n",
       "    </tr>\n",
       "    <tr>\n",
       "      <td>2238</td>\n",
       "      <td>STEVE ROGERS</td>\n",
       "      <td>get</td>\n",
       "      <td>12</td>\n",
       "    </tr>\n",
       "    <tr>\n",
       "      <td>2396</td>\n",
       "      <td>STEVE ROGERS</td>\n",
       "      <td>tony</td>\n",
       "      <td>11</td>\n",
       "    </tr>\n",
       "    <tr>\n",
       "      <td>2433</td>\n",
       "      <td>STEVE ROGERS</td>\n",
       "      <td>yeah</td>\n",
       "      <td>8</td>\n",
       "    </tr>\n",
       "    <tr>\n",
       "      <td>2371</td>\n",
       "      <td>STEVE ROGERS</td>\n",
       "      <td>stones</td>\n",
       "      <td>8</td>\n",
       "    </tr>\n",
       "  </tbody>\n",
       "</table>\n",
       "</div>"
      ],
      "text/plain": [
       "         character    word  word_count\n",
       "2276  STEVE ROGERS    know          15\n",
       "2238  STEVE ROGERS     get          12\n",
       "2396  STEVE ROGERS    tony          11\n",
       "2433  STEVE ROGERS    yeah           8\n",
       "2371  STEVE ROGERS  stones           8"
      ]
     },
     "execution_count": 294,
     "metadata": {},
     "output_type": "execute_result"
    }
   ],
   "source": [
    "end_word_count.loc[end_word_count['character'] == \"STEVE ROGERS\"].sort_values(by = ['word_count']\n",
    "                                                                        , ascending = False).head(5)"
   ]
  },
  {
   "cell_type": "markdown",
   "metadata": {},
   "source": [
    "# Top 5 most frequent words for Thanos\n",
    "### Avengers: Infinity War"
   ]
  },
  {
   "cell_type": "code",
   "execution_count": 295,
   "metadata": {},
   "outputs": [
    {
     "data": {
      "text/html": [
       "<div>\n",
       "<style scoped>\n",
       "    .dataframe tbody tr th:only-of-type {\n",
       "        vertical-align: middle;\n",
       "    }\n",
       "\n",
       "    .dataframe tbody tr th {\n",
       "        vertical-align: top;\n",
       "    }\n",
       "\n",
       "    .dataframe thead th {\n",
       "        text-align: right;\n",
       "    }\n",
       "</style>\n",
       "<table border=\"1\" class=\"dataframe\">\n",
       "  <thead>\n",
       "    <tr style=\"text-align: right;\">\n",
       "      <th></th>\n",
       "      <th>character</th>\n",
       "      <th>word</th>\n",
       "      <th>word_count</th>\n",
       "    </tr>\n",
       "  </thead>\n",
       "  <tbody>\n",
       "    <tr>\n",
       "      <td>2105</td>\n",
       "      <td>THANOS</td>\n",
       "      <td>one</td>\n",
       "      <td>8</td>\n",
       "    </tr>\n",
       "    <tr>\n",
       "      <td>2163</td>\n",
       "      <td>THANOS</td>\n",
       "      <td>stone</td>\n",
       "      <td>5</td>\n",
       "    </tr>\n",
       "    <tr>\n",
       "      <td>2073</td>\n",
       "      <td>THANOS</td>\n",
       "      <td>know</td>\n",
       "      <td>4</td>\n",
       "    </tr>\n",
       "    <tr>\n",
       "      <td>2008</td>\n",
       "      <td>THANOS</td>\n",
       "      <td>daughter</td>\n",
       "      <td>4</td>\n",
       "    </tr>\n",
       "    <tr>\n",
       "      <td>2202</td>\n",
       "      <td>THANOS</td>\n",
       "      <td>what's</td>\n",
       "      <td>4</td>\n",
       "    </tr>\n",
       "  </tbody>\n",
       "</table>\n",
       "</div>"
      ],
      "text/plain": [
       "     character      word  word_count\n",
       "2105    THANOS       one           8\n",
       "2163    THANOS     stone           5\n",
       "2073    THANOS      know           4\n",
       "2008    THANOS  daughter           4\n",
       "2202    THANOS    what's           4"
      ]
     },
     "execution_count": 295,
     "metadata": {},
     "output_type": "execute_result"
    }
   ],
   "source": [
    "inf_word_count.loc[inf_word_count['character'] == \"THANOS\"].sort_values(by = ['word_count']\n",
    "                                                                        , ascending = False).head(5)"
   ]
  },
  {
   "cell_type": "markdown",
   "metadata": {},
   "source": [
    "### Avengers: End Game"
   ]
  },
  {
   "cell_type": "code",
   "execution_count": 296,
   "metadata": {},
   "outputs": [
    {
     "data": {
      "text/html": [
       "<div>\n",
       "<style scoped>\n",
       "    .dataframe tbody tr th:only-of-type {\n",
       "        vertical-align: middle;\n",
       "    }\n",
       "\n",
       "    .dataframe tbody tr th {\n",
       "        vertical-align: top;\n",
       "    }\n",
       "\n",
       "    .dataframe thead th {\n",
       "        text-align: right;\n",
       "    }\n",
       "</style>\n",
       "<table border=\"1\" class=\"dataframe\">\n",
       "  <thead>\n",
       "    <tr style=\"text-align: right;\">\n",
       "      <th></th>\n",
       "      <th>character</th>\n",
       "      <th>word</th>\n",
       "      <th>word_count</th>\n",
       "    </tr>\n",
       "  </thead>\n",
       "  <tbody>\n",
       "    <tr>\n",
       "      <td>2545</td>\n",
       "      <td>THANOS</td>\n",
       "      <td>stones</td>\n",
       "      <td>7</td>\n",
       "    </tr>\n",
       "    <tr>\n",
       "      <td>2492</td>\n",
       "      <td>THANOS</td>\n",
       "      <td>i'm</td>\n",
       "      <td>5</td>\n",
       "    </tr>\n",
       "    <tr>\n",
       "      <td>2470</td>\n",
       "      <td>THANOS</td>\n",
       "      <td>done</td>\n",
       "      <td>4</td>\n",
       "    </tr>\n",
       "    <tr>\n",
       "      <td>2500</td>\n",
       "      <td>THANOS</td>\n",
       "      <td>know</td>\n",
       "      <td>4</td>\n",
       "    </tr>\n",
       "    <tr>\n",
       "      <td>2496</td>\n",
       "      <td>THANOS</td>\n",
       "      <td>inevitable</td>\n",
       "      <td>3</td>\n",
       "    </tr>\n",
       "  </tbody>\n",
       "</table>\n",
       "</div>"
      ],
      "text/plain": [
       "     character        word  word_count\n",
       "2545    THANOS      stones           7\n",
       "2492    THANOS         i'm           5\n",
       "2470    THANOS        done           4\n",
       "2500    THANOS        know           4\n",
       "2496    THANOS  inevitable           3"
      ]
     },
     "execution_count": 296,
     "metadata": {},
     "output_type": "execute_result"
    }
   ],
   "source": [
    "end_word_count.loc[end_word_count['character'] == \"THANOS\"].sort_values(by = ['word_count']\n",
    "                                                                        , ascending = False).head(5)"
   ]
  },
  {
   "cell_type": "code",
   "execution_count": null,
   "metadata": {},
   "outputs": [],
   "source": []
  }
 ],
 "metadata": {
  "kernelspec": {
   "display_name": "Python 3",
   "language": "python",
   "name": "python3"
  },
  "language_info": {
   "codemirror_mode": {
    "name": "ipython",
    "version": 3
   },
   "file_extension": ".py",
   "mimetype": "text/x-python",
   "name": "python",
   "nbconvert_exporter": "python",
   "pygments_lexer": "ipython3",
   "version": "3.7.2"
  }
 },
 "nbformat": 4,
 "nbformat_minor": 2
}
